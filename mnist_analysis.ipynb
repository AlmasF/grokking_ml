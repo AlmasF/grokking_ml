{
  "nbformat": 4,
  "nbformat_minor": 0,
  "metadata": {
    "colab": {
      "provenance": [],
      "authorship_tag": "ABX9TyOvUHqEOEJ0i8LBFwbQuWkp",
      "include_colab_link": true
    },
    "kernelspec": {
      "name": "python3",
      "display_name": "Python 3"
    },
    "language_info": {
      "name": "python"
    }
  },
  "cells": [
    {
      "cell_type": "markdown",
      "metadata": {
        "id": "view-in-github",
        "colab_type": "text"
      },
      "source": [
        "<a href=\"https://colab.research.google.com/github/AlmasF/grokking_ml/blob/main/mnist_analysis.ipynb\" target=\"_parent\"><img src=\"https://colab.research.google.com/assets/colab-badge.svg\" alt=\"Open In Colab\"/></a>"
      ]
    },
    {
      "cell_type": "code",
      "execution_count": null,
      "metadata": {
        "id": "Dzys5-CmBRU8"
      },
      "outputs": [],
      "source": [
        "import sys, numpy as np\n",
        "from keras.datasets import mnist"
      ]
    },
    {
      "cell_type": "code",
      "source": [
        "(x_train, y_train), (x_test, y_test) = mnist.load_data()"
      ],
      "metadata": {
        "colab": {
          "base_uri": "https://localhost:8080/"
        },
        "id": "ottvsU_uBa88",
        "outputId": "a756dc56-e1ca-496c-c65e-afddd9c08ebf"
      },
      "execution_count": null,
      "outputs": [
        {
          "output_type": "stream",
          "name": "stdout",
          "text": [
            "Downloading data from https://storage.googleapis.com/tensorflow/tf-keras-datasets/mnist.npz\n",
            "\u001b[1m11490434/11490434\u001b[0m \u001b[32m━━━━━━━━━━━━━━━━━━━━\u001b[0m\u001b[37m\u001b[0m \u001b[1m0s\u001b[0m 0us/step\n"
          ]
        }
      ]
    },
    {
      "cell_type": "code",
      "source": [
        "images, labels = (x_train[0:1000].reshape(1000, 28*28) / 255, y_train[0:1000])\n",
        "one_hot_labels = np.zeros((len(labels), 10))\n",
        "\n",
        "for i, l in enumerate(labels):\n",
        "  one_hot_labels[i][l] = 1\n",
        "labels = one_hot_labels\n",
        "\n",
        "test_images = x_test.reshape(len(x_test), 28*28) / 255\n",
        "test_labels = np.zeros((len(y_test), 10))\n",
        "for i, l in enumerate(y_test):\n",
        "  test_labels[i][l] = 1\n",
        "\n",
        "np.random.seed(1)\n",
        "relu = lambda x:(x>=0) * x\n",
        "relu2deriv = lambda x: x>= 0\n",
        "alpha, iterations, hidden_size, pixels_per_image, num_labels = (0.005, 350, 40, 784, 10)\n",
        "weights_0_1 = 0.2*np.random.random((pixels_per_image, hidden_size)) - 0.1\n",
        "weights_1_2 = 0.2*np.random.random((hidden_size, num_labels)) - 0.1\n",
        "\n",
        "for j in range(iterations):\n",
        "  error, correct_cnt = (0.0, 0)\n",
        "\n",
        "  for i in range(len(images)):\n",
        "    layer_0 = images[i:i+1]\n",
        "    layer_1 = relu(np.dot(layer_0, weights_0_1))\n",
        "    layer_2 = np.dot(layer_1, weights_1_2)\n",
        "    error += np.sum((labels[i:i+1] - layer_2) ** 2)\n",
        "    correct_cnt += int(np.argmax(layer_2) == np.argmax(labels[i:i+1]))\n",
        "    layer_2_delta = (labels[i:i+1] - layer_2)"
      ],
      "metadata": {
        "id": "zX5vGmnQB0lO"
      },
      "execution_count": null,
      "outputs": []
    },
    {
      "cell_type": "code",
      "source": [],
      "metadata": {
        "id": "aUowH9v8Cpn4"
      },
      "execution_count": null,
      "outputs": []
    }
  ]
}